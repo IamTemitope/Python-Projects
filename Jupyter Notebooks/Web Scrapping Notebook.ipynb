{
 "cells": [
  {
   "cell_type": "code",
   "execution_count": null,
   "metadata": {},
   "outputs": [],
   "source": [
    "import requests\n",
    "from bs4 import BeautifulSoup\n",
    "import pandas as pd"
   ]
  },
  {
   "cell_type": "code",
   "execution_count": null,
   "metadata": {},
   "outputs": [],
   "source": [
    "base_url = 'https://onehealthng.com/products'  # Replace with the base URL of the store website\n",
    "num_pages = 120  # Replace with the total number of pages you want to scrape\n",
    "\n",
    "product_names = []\n",
    "prices = []\n",
    "\n",
    "for page in range(1, num_pages + 1):\n",
    "    url = f'{base_url}?page={page}'  # Update the URL with the page number parameter\n",
    "    response = requests.get(url)\n",
    "    html_content = response.content\n",
    "\n",
    "    soup = BeautifulSoup(html_content, 'html.parser')\n",
    "\n",
    "    product_name_elements = soup.find_all('p', class_='font-weight-bold white-space: nowrap; p-0')\n",
    "    price_elements = soup.find_all('span', class_='m-0 mv')\n",
    "\n",
    "    product_names.extend([element.text.strip() for element in product_name_elements])\n",
    "    prices.extend([element.text.strip() for element in price_elements])\n",
    "\n",
    "data = {'Product': product_names, 'Price': prices}\n",
    "df = pd.DataFrame(data)\n",
    "\n",
    "print(df)\n"
   ]
  },
  {
   "cell_type": "code",
   "execution_count": null,
   "metadata": {},
   "outputs": [],
   "source": [
    "df.to_csv('onehealth.csv', index=False)"
   ]
  }
 ],
 "metadata": {
  "kernelspec": {
   "display_name": "Python 3",
   "language": "python",
   "name": "python3"
  },
  "language_info": {
   "codemirror_mode": {
    "name": "ipython",
    "version": 3
   },
   "file_extension": ".py",
   "mimetype": "text/x-python",
   "name": "python",
   "nbconvert_exporter": "python",
   "pygments_lexer": "ipython3",
   "version": "3.11.3"
  },
  "orig_nbformat": 4
 },
 "nbformat": 4,
 "nbformat_minor": 2
}
