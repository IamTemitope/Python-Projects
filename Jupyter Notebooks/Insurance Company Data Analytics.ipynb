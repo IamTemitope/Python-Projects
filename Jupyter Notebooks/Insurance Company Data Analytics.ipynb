{
 "cells": [
  {
   "cell_type": "code",
   "execution_count": 1,
   "metadata": {},
   "outputs": [],
   "source": [
    "import pandas as pd\n",
    "import numpy as np"
   ]
  },
  {
   "cell_type": "code",
   "execution_count": 2,
   "metadata": {},
   "outputs": [],
   "source": [
    "df = pd.read_table(r'C:\\Users\\Temitope Babatunde\\Documents\\My Repository\\Tutorial Dataset\\Insurance dataset.txt')"
   ]
  },
  {
   "cell_type": "code",
   "execution_count": 3,
   "metadata": {},
   "outputs": [
    {
     "name": "stdout",
     "output_type": "stream",
     "text": [
      "<class 'pandas.core.frame.DataFrame'>\n",
      "RangeIndex: 15000 entries, 0 to 14999\n",
      "Data columns (total 13 columns):\n",
      " #   Column               Non-Null Count  Dtype  \n",
      "---  ------               --------------  -----  \n",
      " 0   Age                  14604 non-null  float64\n",
      " 1   Sex                  15000 non-null  object \n",
      " 2   Weight               15000 non-null  int64  \n",
      " 3   Bmi                  14044 non-null  float64\n",
      " 4   Hereditary_diseases  15000 non-null  object \n",
      " 5   No_of_dependents     15000 non-null  int64  \n",
      " 6   Smoker               15000 non-null  int64  \n",
      " 7   City                 15000 non-null  object \n",
      " 8   Bloodpressure        15000 non-null  int64  \n",
      " 9   Diabetes             15000 non-null  int64  \n",
      " 10  Regular_ex           15000 non-null  int64  \n",
      " 11  Job_title            15000 non-null  object \n",
      " 12  Claim                15000 non-null  float64\n",
      "dtypes: float64(3), int64(6), object(4)\n",
      "memory usage: 1.5+ MB\n"
     ]
    }
   ],
   "source": [
    "df.info()"
   ]
  },
  {
   "cell_type": "code",
   "execution_count": 4,
   "metadata": {},
   "outputs": [],
   "source": [
    "df.dropna(inplace=True)"
   ]
  },
  {
   "cell_type": "code",
   "execution_count": 5,
   "metadata": {},
   "outputs": [
    {
     "name": "stdout",
     "output_type": "stream",
     "text": [
      "<class 'pandas.core.frame.DataFrame'>\n",
      "Int64Index: 13648 entries, 0 to 14999\n",
      "Data columns (total 13 columns):\n",
      " #   Column               Non-Null Count  Dtype  \n",
      "---  ------               --------------  -----  \n",
      " 0   Age                  13648 non-null  float64\n",
      " 1   Sex                  13648 non-null  object \n",
      " 2   Weight               13648 non-null  int64  \n",
      " 3   Bmi                  13648 non-null  float64\n",
      " 4   Hereditary_diseases  13648 non-null  object \n",
      " 5   No_of_dependents     13648 non-null  int64  \n",
      " 6   Smoker               13648 non-null  int64  \n",
      " 7   City                 13648 non-null  object \n",
      " 8   Bloodpressure        13648 non-null  int64  \n",
      " 9   Diabetes             13648 non-null  int64  \n",
      " 10  Regular_ex           13648 non-null  int64  \n",
      " 11  Job_title            13648 non-null  object \n",
      " 12  Claim                13648 non-null  float64\n",
      "dtypes: float64(3), int64(6), object(4)\n",
      "memory usage: 1.5+ MB\n"
     ]
    }
   ],
   "source": [
    "df.info()"
   ]
  },
  {
   "cell_type": "code",
   "execution_count": 6,
   "metadata": {},
   "outputs": [],
   "source": [
    "df['Age'] = df['Age'].astype(int)"
   ]
  },
  {
   "cell_type": "code",
   "execution_count": 7,
   "metadata": {},
   "outputs": [
    {
     "data": {
      "text/html": [
       "<div>\n",
       "<style scoped>\n",
       "    .dataframe tbody tr th:only-of-type {\n",
       "        vertical-align: middle;\n",
       "    }\n",
       "\n",
       "    .dataframe tbody tr th {\n",
       "        vertical-align: top;\n",
       "    }\n",
       "\n",
       "    .dataframe thead th {\n",
       "        text-align: right;\n",
       "    }\n",
       "</style>\n",
       "<table border=\"1\" class=\"dataframe\">\n",
       "  <thead>\n",
       "    <tr style=\"text-align: right;\">\n",
       "      <th></th>\n",
       "      <th>Age</th>\n",
       "      <th>Sex</th>\n",
       "      <th>Weight</th>\n",
       "      <th>Bmi</th>\n",
       "      <th>Hereditary_diseases</th>\n",
       "      <th>No_of_dependents</th>\n",
       "      <th>Smoker</th>\n",
       "      <th>City</th>\n",
       "      <th>Bloodpressure</th>\n",
       "      <th>Diabetes</th>\n",
       "      <th>Regular_ex</th>\n",
       "      <th>Job_title</th>\n",
       "      <th>Claim</th>\n",
       "    </tr>\n",
       "  </thead>\n",
       "  <tbody>\n",
       "    <tr>\n",
       "      <th>0</th>\n",
       "      <td>60</td>\n",
       "      <td>male</td>\n",
       "      <td>64</td>\n",
       "      <td>24.3</td>\n",
       "      <td>NoDisease</td>\n",
       "      <td>1</td>\n",
       "      <td>0</td>\n",
       "      <td>NewYork</td>\n",
       "      <td>72</td>\n",
       "      <td>0</td>\n",
       "      <td>0</td>\n",
       "      <td>Actor</td>\n",
       "      <td>13112.6</td>\n",
       "    </tr>\n",
       "    <tr>\n",
       "      <th>1</th>\n",
       "      <td>49</td>\n",
       "      <td>female</td>\n",
       "      <td>75</td>\n",
       "      <td>22.6</td>\n",
       "      <td>NoDisease</td>\n",
       "      <td>1</td>\n",
       "      <td>0</td>\n",
       "      <td>Boston</td>\n",
       "      <td>78</td>\n",
       "      <td>1</td>\n",
       "      <td>1</td>\n",
       "      <td>Engineer</td>\n",
       "      <td>9567.0</td>\n",
       "    </tr>\n",
       "    <tr>\n",
       "      <th>2</th>\n",
       "      <td>32</td>\n",
       "      <td>female</td>\n",
       "      <td>64</td>\n",
       "      <td>17.8</td>\n",
       "      <td>Epilepsy</td>\n",
       "      <td>2</td>\n",
       "      <td>1</td>\n",
       "      <td>Phildelphia</td>\n",
       "      <td>88</td>\n",
       "      <td>1</td>\n",
       "      <td>1</td>\n",
       "      <td>Academician</td>\n",
       "      <td>32734.2</td>\n",
       "    </tr>\n",
       "    <tr>\n",
       "      <th>3</th>\n",
       "      <td>61</td>\n",
       "      <td>female</td>\n",
       "      <td>53</td>\n",
       "      <td>36.4</td>\n",
       "      <td>NoDisease</td>\n",
       "      <td>1</td>\n",
       "      <td>1</td>\n",
       "      <td>Pittsburg</td>\n",
       "      <td>72</td>\n",
       "      <td>1</td>\n",
       "      <td>0</td>\n",
       "      <td>Chef</td>\n",
       "      <td>48517.6</td>\n",
       "    </tr>\n",
       "    <tr>\n",
       "      <th>4</th>\n",
       "      <td>19</td>\n",
       "      <td>female</td>\n",
       "      <td>50</td>\n",
       "      <td>20.6</td>\n",
       "      <td>NoDisease</td>\n",
       "      <td>0</td>\n",
       "      <td>0</td>\n",
       "      <td>Buffalo</td>\n",
       "      <td>82</td>\n",
       "      <td>1</td>\n",
       "      <td>0</td>\n",
       "      <td>HomeMakers</td>\n",
       "      <td>1731.7</td>\n",
       "    </tr>\n",
       "  </tbody>\n",
       "</table>\n",
       "</div>"
      ],
      "text/plain": [
       "   Age     Sex  Weight   Bmi Hereditary_diseases  No_of_dependents  Smoker  \\\n",
       "0   60    male      64  24.3           NoDisease                 1       0   \n",
       "1   49  female      75  22.6           NoDisease                 1       0   \n",
       "2   32  female      64  17.8            Epilepsy                 2       1   \n",
       "3   61  female      53  36.4           NoDisease                 1       1   \n",
       "4   19  female      50  20.6           NoDisease                 0       0   \n",
       "\n",
       "          City  Bloodpressure  Diabetes  Regular_ex    Job_title    Claim  \n",
       "0      NewYork             72         0           0        Actor  13112.6  \n",
       "1       Boston             78         1           1     Engineer   9567.0  \n",
       "2  Phildelphia             88         1           1  Academician  32734.2  \n",
       "3    Pittsburg             72         1           0         Chef  48517.6  \n",
       "4      Buffalo             82         1           0   HomeMakers   1731.7  "
      ]
     },
     "execution_count": 7,
     "metadata": {},
     "output_type": "execute_result"
    }
   ],
   "source": [
    "df.head()"
   ]
  },
  {
   "cell_type": "code",
   "execution_count": 8,
   "metadata": {},
   "outputs": [
    {
     "name": "stdout",
     "output_type": "stream",
     "text": [
      "*Dataset Descriptives*\n",
      "Total Claim is: 183107915.0\n",
      "Male Population: 6648\n",
      "Female Population: 7000\n",
      "min age: 18\n",
      "max age: 64\n",
      "Average Weight: 64.68947831184056\n",
      "Average BMI: 30.287294841735054\n"
     ]
    }
   ],
   "source": [
    "Total_Claim = df['Claim'].sum()\n",
    "Gender = df['Sex'].value_counts()\n",
    "Weight = df['Weight'].mean()\n",
    "BMI = df['Bmi'].mean()\n",
    "print('*Dataset Descriptives*')\n",
    "print('Total Claim is:', Total_Claim)\n",
    "print('Male Population:', Gender[1])\n",
    "print('Female Population:', Gender[0])\n",
    "print('min age:', df['Age'].min())\n",
    "print('max age:', df['Age'].max())\n",
    "print('Average Weight:', Weight)\n",
    "print('Average BMI:', BMI)"
   ]
  },
  {
   "cell_type": "code",
   "execution_count": 9,
   "metadata": {},
   "outputs": [
    {
     "name": "stdout",
     "output_type": "stream",
     "text": [
      "Mid Adults      2975\n",
      "Adults          2798\n",
      "Early Adults    2653\n",
      "Youth           2640\n",
      "Teens           1210\n",
      "Ederly           675\n",
      "Name: Age, dtype: int64\n"
     ]
    },
    {
     "data": {
      "text/plain": [
       "<Axes: >"
      ]
     },
     "execution_count": 9,
     "metadata": {},
     "output_type": "execute_result"
    },
    {
     "data": {
      "image/png": "[encoded data removed]",
      "text/plain": [
       "<Figure size 640x480 with 1 Axes>"
      ]
     },
     "metadata": {},
     "output_type": "display_data"
    }
   ],
   "source": [
    "age_bracket = (18,21,31,41,51,61,64)\n",
    "age = df['Age']\n",
    "age_group = pd.cut(age, age_bracket, labels=['Teens', 'Youth', 'Early Adults','Mid Adults', 'Adults', 'Ederly'])\n",
    "print(age_group.value_counts())\n",
    "age_group.value_counts().plot(kind='barh')"
   ]
  },
  {
   "cell_type": "code",
   "execution_count": 10,
   "metadata": {},
   "outputs": [
    {
     "data": {
      "text/plain": [
       "Nashville     276\n",
       "Memphis       273\n",
       "NewOrleans    269\n",
       "Charlotte     268\n",
       "Charleston    264\n",
       "Brimingham    262\n",
       "Louisville    261\n",
       "Harrisburg    259\n",
       "Stamford      255\n",
       "Newport       255\n",
       "Name: City, dtype: int64"
      ]
     },
     "execution_count": 10,
     "metadata": {},
     "output_type": "execute_result"
    }
   ],
   "source": [
    "City = df['City'].value_counts()\n",
    "City[:10]"
   ]
  },
  {
   "cell_type": "code",
   "execution_count": 11,
   "metadata": {},
   "outputs": [
    {
     "data": {
      "text/plain": [
       "Student         1153\n",
       "HomeMakers       916\n",
       "Singer           677\n",
       "FilmMaker        670\n",
       "Actor            648\n",
       "HouseKeeper      625\n",
       "Dancer           621\n",
       "Manager          585\n",
       "Photographer     362\n",
       "Beautician       353\n",
       "Name: Job_title, dtype: int64"
      ]
     },
     "execution_count": 11,
     "metadata": {},
     "output_type": "execute_result"
    }
   ],
   "source": [
    "Job = df['Job_title'].value_counts()\n",
    "Job[:10]"
   ]
  },
  {
   "cell_type": "code",
   "execution_count": 12,
   "metadata": {},
   "outputs": [
    {
     "name": "stdout",
     "output_type": "stream",
     "text": [
      "NoDisease       12761\n",
      "Alzheimer         134\n",
      "Diabetes          127\n",
      "EyeDisease        121\n",
      "Obesity           108\n",
      "Cancer             96\n",
      "HeartDisease       93\n",
      "Arthritis          79\n",
      "High BP            69\n",
      "Epilepsy           60\n",
      "Name: Hereditary_diseases, dtype: int64\n"
     ]
    },
    {
     "data": {
      "text/plain": [
       "<Axes: >"
      ]
     },
     "execution_count": 12,
     "metadata": {},
     "output_type": "execute_result"
    },
    {
     "data": {
      "image/png": "[encoded data removed]",
      "text/plain": [
       "<Figure size 640x480 with 1 Axes>"
      ]
     },
     "metadata": {},
     "output_type": "display_data"
    }
   ],
   "source": [
    "Hereditary_Diseases = df['Hereditary_diseases'].value_counts()\n",
    "print(Hereditary_Diseases)\n",
    "Hereditary_Diseases[1:].plot(kind='bar')"
   ]
  },
  {
   "cell_type": "code",
   "execution_count": 13,
   "metadata": {},
   "outputs": [
    {
     "name": "stdout",
     "output_type": "stream",
     "text": [
      "Have Diabetes: 10688\n",
      "Does not have Diabetes: 2960\n"
     ]
    },
    {
     "data": {
      "text/plain": [
       "<Axes: ylabel='Diabetes'>"
      ]
     },
     "execution_count": 13,
     "metadata": {},
     "output_type": "execute_result"
    },
    {
     "data": {
      "image/png": "[encoded data removed]",
      "text/plain": [
       "<Figure size 640x480 with 1 Axes>"
      ]
     },
     "metadata": {},
     "output_type": "display_data"
    }
   ],
   "source": [
    "Diabetes = df['Diabetes'].value_counts()\n",
    "print('Have Diabetes:', Diabetes[1])\n",
    "print('Does not have Diabetes:', Diabetes[0])\n",
    "Diabetes.plot(kind='pie')"
   ]
  },
  {
   "cell_type": "code",
   "execution_count": 14,
   "metadata": {},
   "outputs": [
    {
     "name": "stdout",
     "output_type": "stream",
     "text": [
      "Smokes: 2704\n",
      "Does not Smoke: 10944\n"
     ]
    },
    {
     "data": {
      "text/plain": [
       "<Axes: ylabel='Smoker'>"
      ]
     },
     "execution_count": 14,
     "metadata": {},
     "output_type": "execute_result"
    },
    {
     "data": {
      "image/png": "[encoded data removed]",
      "text/plain": [
       "<Figure size 640x480 with 1 Axes>"
      ]
     },
     "metadata": {},
     "output_type": "display_data"
    }
   ],
   "source": [
    "Smokers = df['Smoker'].value_counts()\n",
    "print('Smokes:', Smokers[1])\n",
    "print('Does not Smoke:', Smokers[0])\n",
    "Smokers.plot(kind='pie')"
   ]
  },
  {
   "cell_type": "code",
   "execution_count": 15,
   "metadata": {},
   "outputs": [
    {
     "name": "stdout",
     "output_type": "stream",
     "text": [
      "Mid Adults      218\n",
      "Youth           187\n",
      "Early Adults    133\n",
      "Adults           94\n",
      "Ederly           55\n",
      "Teens            23\n",
      "Name: Age, dtype: int64\n"
     ]
    },
    {
     "data": {
      "text/plain": [
       "<Axes: >"
      ]
     },
     "execution_count": 15,
     "metadata": {},
     "output_type": "execute_result"
    },
    {
     "data": {
      "image/png": "[encoded data removed]",
      "text/plain": [
       "<Figure size 640x480 with 1 Axes>"
      ]
     },
     "metadata": {},
     "output_type": "display_data"
    }
   ],
   "source": [
    "Death_row = df[(df.Smoker == 1) & (df.Diabetes == 1) & (df.Hereditary_diseases != 'NoDisease')]\n",
    "Death_row\n",
    "age_bracket = (18,21,31,41,51,61,64)\n",
    "age_death_row = Death_row['Age']\n",
    "age_group_death_row = pd.cut(age_death_row, age_bracket, labels=['Teens', 'Youth', 'Early Adults','Mid Adults', 'Adults', 'Ederly'])\n",
    "print(age_group_death_row.value_counts())\n",
    "age_group_death_row.value_counts().plot(kind=\"barh\")"
   ]
  },
  {
   "cell_type": "code",
   "execution_count": null,
   "metadata": {},
   "outputs": [],
   "source": []
  }
 ],
 "metadata": {
  "kernelspec": {
   "display_name": "Python 3",
   "language": "python",
   "name": "python3"
  },
  "language_info": {
   "codemirror_mode": {
    "name": "ipython",
    "version": 3
   },
   "file_extension": ".py",
   "mimetype": "text/x-python",
   "name": "python",
   "nbconvert_exporter": "python",
   "pygments_lexer": "ipython3",
   "version": "3.10.9"
  },
  "orig_nbformat": 4
 },
 "nbformat": 4,
 "nbformat_minor": 2
}
